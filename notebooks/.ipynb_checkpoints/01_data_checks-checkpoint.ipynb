{
 "cells": [
  {
   "cell_type": "markdown",
   "id": "42d1f015",
   "metadata": {},
   "source": [
    "# 01_data_checks — فحوصات أولية"
   ]
  },
  {
   "cell_type": "code",
   "execution_count": null,
   "id": "9347b064",
   "metadata": {},
   "outputs": [],
   "source": [
    "\n",
    "import pandas as pd, numpy as np, json, os\n",
    "with open(\"/workspace/data/project_config.json\") as f:\n",
    "    CFG = json.load(f)\n",
    "RAW = \"/workspace/data/ML_Trading_DataLayer_v1.xlsx\"\n",
    "df = pd.read_excel(RAW)\n",
    "print(df.shape)\n",
    "df.head()\n"
   ]
  },
  {
   "cell_type": "code",
   "execution_count": null,
   "id": "62085252",
   "metadata": {},
   "outputs": [],
   "source": [
    "\n",
    "print(\"Columns:\", df.columns.tolist())\n",
    "display(df.dtypes)\n",
    "display(df.describe(include='all').T.iloc[:20])\n"
   ]
  },
  {
   "cell_type": "code",
   "execution_count": null,
   "id": "db4a42f3",
   "metadata": {},
   "outputs": [],
   "source": [
    "\n",
    "nulls = df.isnull().sum().sort_values(ascending=False)\n",
    "display(nulls[nulls>0])\n",
    "dups = df.duplicated().sum()\n",
    "print(\"Duplicates:\", dups)\n"
   ]
  },
  {
   "cell_type": "code",
   "execution_count": null,
   "id": "ff6ce911",
   "metadata": {},
   "outputs": [],
   "source": [
    "\n",
    "# تحويل تواريخ إن وجدت + حذف تكرارات كاملة\n",
    "for c in df.columns:\n",
    "    if \"date\" in c.lower() or \"time\" in c.lower():\n",
    "        try: df[c] = pd.to_datetime(df[c], errors=\"coerce\")\n",
    "        except: pass\n",
    "df_clean = df.drop_duplicates().copy()\n",
    "print(\"After dedup:\", df_clean.shape)\n"
   ]
  },
  {
   "cell_type": "code",
   "execution_count": null,
   "id": "e7e64585",
   "metadata": {},
   "outputs": [],
   "source": [
    "\n",
    "num_cols = df_clean.select_dtypes(include=[np.number]).columns\n",
    "iqr_stats = {}\n",
    "for c in num_cols:\n",
    "    Q1, Q3 = df_clean[c].quantile(0.25), df_clean[c].quantile(0.75)\n",
    "    IQR = Q3 - Q1\n",
    "    low, high = Q1 - 1.5*IQR, Q3 + 1.5*IQR\n",
    "    iqr_stats[c] = {\"low\": float(low), \"high\": float(high),\n",
    "                    \"outliers\": int(((df_clean[c]<low)|(df_clean[c]>high)).sum())}\n",
    "iqr_stats\n"
   ]
  },
  {
   "cell_type": "code",
   "execution_count": null,
   "id": "506d9a67",
   "metadata": {},
   "outputs": [],
   "source": [
    "\n",
    "with open(\"/workspace/data/project_config.json\") as f:\n",
    "    CFG = json.load(f)\n",
    "out_path = f\"{CFG['paths']['processed']}/ML_Trading_DataLayer_clean.parquet\"\n",
    "df_clean.to_parquet(out_path, index=False)\n",
    "print(\"Saved:\", out_path, \"→\", len(df_clean), \"rows\")\n"
   ]
  }
 ],
 "metadata": {},
 "nbformat": 4,
 "nbformat_minor": 5
}
