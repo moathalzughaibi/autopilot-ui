{
 "cells": [
  {
   "cell_type": "markdown",
   "id": "f7c4861f",
   "metadata": {},
   "source": [
    "# 04_export_signals — 2010.SR"
   ]
  },
  {
   "cell_type": "code",
   "execution_count": null,
   "id": "607b0dff",
   "metadata": {},
   "outputs": [],
   "source": [
    "import os, json, pandas as pd\n",
    "SYMBOL=\"2010.SR\"\n",
    "feat=f\"/workspace/data/processed/{SYMBOL}_features.parquet\"\n",
    "df=pd.read_parquet(feat); last=df.iloc[-1]\n",
    "signal=\"BUY\" if float(last.get(\"pos\",0))>0 else \"FLAT\"\n",
    "out=f\"/workspace/data/processed/{SYMBOL}_latest_signal.json\"\n",
    "with open(out,\"w\") as f:\n",
    "    json.dump({\"symbol\":SYMBOL,\"date\":str(last[\"Date\"]),\n",
    "               \"close\":float(last[\"Close\"]), \"signal\":signal}, f, indent=2)\n",
    "print(\"Saved →\", out); print(signal, last[\"Date\"], float(last[\"Close\"]))\n"
   ]
  }
 ],
 "metadata": {},
 "nbformat": 4,
 "nbformat_minor": 5
}
