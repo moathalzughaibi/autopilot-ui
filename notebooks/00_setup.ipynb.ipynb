{
 "cells": [
  {
   "cell_type": "code",
   "execution_count": null,
   "id": "49d999ee-b25f-44ad-aafc-b20df8f515f6",
   "metadata": {},
   "outputs": [],
   "source": [
    "00_setup.ipynb"
   ]
  }
 ],
 "metadata": {
  "kernelspec": {
   "display_name": "Autopilot (/workspace/data/.venv)",
   "language": "python",
   "name": "autopilot-env"
  },
  "language_info": {
   "codemirror_mode": {
    "name": "ipython",
    "version": 3
   },
   "file_extension": ".py",
   "mimetype": "text/x-python",
   "name": "python",
   "nbconvert_exporter": "python",
   "pygments_lexer": "ipython3",
   "version": "3.12.3"
  }
 },
 "nbformat": 4,
 "nbformat_minor": 5
}
