{
 "cells": [
  {
   "cell_type": "markdown",
   "id": "42d1f015",
   "metadata": {},
   "source": [
    "# 01_data_checks — فحوصات أولية"
   ]
  },
  {
   "cell_type": "code",
   "execution_count": 7,
   "id": "9347b064",
   "metadata": {},
   "outputs": [
    {
     "name": "stdout",
     "output_type": "stream",
     "text": [
      "(6, 8)\n"
     ]
    },
    {
     "data": {
      "text/html": [
       "<div>\n",
       "<style scoped>\n",
       "    .dataframe tbody tr th:only-of-type {\n",
       "        vertical-align: middle;\n",
       "    }\n",
       "\n",
       "    .dataframe tbody tr th {\n",
       "        vertical-align: top;\n",
       "    }\n",
       "\n",
       "    .dataframe thead th {\n",
       "        text-align: right;\n",
       "    }\n",
       "</style>\n",
       "<table border=\"1\" class=\"dataframe\">\n",
       "  <thead>\n",
       "    <tr style=\"text-align: right;\">\n",
       "      <th></th>\n",
       "      <th>Provider</th>\n",
       "      <th>Markets</th>\n",
       "      <th>Data Types</th>\n",
       "      <th>Realtime</th>\n",
       "      <th>Timeframes</th>\n",
       "      <th>Delivery</th>\n",
       "      <th>Corporate Actions</th>\n",
       "      <th>Notes</th>\n",
       "    </tr>\n",
       "  </thead>\n",
       "  <tbody>\n",
       "    <tr>\n",
       "      <th>0</th>\n",
       "      <td>Yahoo Finance</td>\n",
       "      <td>US/Global (broad)</td>\n",
       "      <td>EOD, Historical</td>\n",
       "      <td>No (primarily delayed)</td>\n",
       "      <td>1D, 1W, 1M (basic intraday via 1m historical w...</td>\n",
       "      <td>REST/Download/CSV</td>\n",
       "      <td>Splits/Dividends (adjusted)</td>\n",
       "      <td>Good for prototyping/backtesting; licensing re...</td>\n",
       "    </tr>\n",
       "    <tr>\n",
       "      <th>1</th>\n",
       "      <td>Polygon.io</td>\n",
       "      <td>US Equities/Options/FX/Crypto</td>\n",
       "      <td>Realtime, Historical, Aggregates, Tick</td>\n",
       "      <td>Yes (WebSocket/Low-latency)</td>\n",
       "      <td>Tick, 1s, 1m, 5m, 15m, 1h, 1D</td>\n",
       "      <td>REST/WebSocket</td>\n",
       "      <td>Yes (splits, dividends, symbol changes)</td>\n",
       "      <td>Developer-friendly; good docs; tiered pricing</td>\n",
       "    </tr>\n",
       "    <tr>\n",
       "      <th>2</th>\n",
       "      <td>Refinitiv (LSEG)</td>\n",
       "      <td>Global multi-asset</td>\n",
       "      <td>Low-latency realtime, Historical, Fundamentals</td>\n",
       "      <td>Yes (ultra-low latency options)</td>\n",
       "      <td>Tick to 1D+</td>\n",
       "      <td>APIs/Feeds/SDK</td>\n",
       "      <td>Comprehensive (global)</td>\n",
       "      <td>Institutional-grade; higher cost; licensing pe...</td>\n",
       "    </tr>\n",
       "    <tr>\n",
       "      <th>3</th>\n",
       "      <td>Tadawul (Saudi Exchange)</td>\n",
       "      <td>Saudi equities</td>\n",
       "      <td>Realtime/Delayed, Historical</td>\n",
       "      <td>Yes (depending on license)</td>\n",
       "      <td>1m to 1D (tick via vendors)</td>\n",
       "      <td>Official feeds / partners</td>\n",
       "      <td>Official disclosures/corporate actions</td>\n",
       "      <td>Must review licensing; ideal for KSA deployment</td>\n",
       "    </tr>\n",
       "    <tr>\n",
       "      <th>4</th>\n",
       "      <td>Tiingo</td>\n",
       "      <td>US Equities/ETF/FX (some global)</td>\n",
       "      <td>EOD, Intraday, Fundamentals</td>\n",
       "      <td>Yes (with paid plans)</td>\n",
       "      <td>1m to 1D (plus aggregates)</td>\n",
       "      <td>REST</td>\n",
       "      <td>Yes (splits/dividends)</td>\n",
       "      <td>Clean historical datasets; sensible pricing fo...</td>\n",
       "    </tr>\n",
       "  </tbody>\n",
       "</table>\n",
       "</div>"
      ],
      "text/plain": [
       "                   Provider                           Markets  \\\n",
       "0             Yahoo Finance                 US/Global (broad)   \n",
       "1                Polygon.io     US Equities/Options/FX/Crypto   \n",
       "2          Refinitiv (LSEG)                Global multi-asset   \n",
       "3  Tadawul (Saudi Exchange)                    Saudi equities   \n",
       "4                    Tiingo  US Equities/ETF/FX (some global)   \n",
       "\n",
       "                                       Data Types  \\\n",
       "0                                 EOD, Historical   \n",
       "1          Realtime, Historical, Aggregates, Tick   \n",
       "2  Low-latency realtime, Historical, Fundamentals   \n",
       "3                    Realtime/Delayed, Historical   \n",
       "4                     EOD, Intraday, Fundamentals   \n",
       "\n",
       "                          Realtime  \\\n",
       "0           No (primarily delayed)   \n",
       "1      Yes (WebSocket/Low-latency)   \n",
       "2  Yes (ultra-low latency options)   \n",
       "3       Yes (depending on license)   \n",
       "4            Yes (with paid plans)   \n",
       "\n",
       "                                          Timeframes  \\\n",
       "0  1D, 1W, 1M (basic intraday via 1m historical w...   \n",
       "1                      Tick, 1s, 1m, 5m, 15m, 1h, 1D   \n",
       "2                                        Tick to 1D+   \n",
       "3                        1m to 1D (tick via vendors)   \n",
       "4                         1m to 1D (plus aggregates)   \n",
       "\n",
       "                    Delivery                        Corporate Actions  \\\n",
       "0          REST/Download/CSV              Splits/Dividends (adjusted)   \n",
       "1             REST/WebSocket  Yes (splits, dividends, symbol changes)   \n",
       "2             APIs/Feeds/SDK                   Comprehensive (global)   \n",
       "3  Official feeds / partners   Official disclosures/corporate actions   \n",
       "4                       REST                   Yes (splits/dividends)   \n",
       "\n",
       "                                               Notes  \n",
       "0  Good for prototyping/backtesting; licensing re...  \n",
       "1      Developer-friendly; good docs; tiered pricing  \n",
       "2  Institutional-grade; higher cost; licensing pe...  \n",
       "3    Must review licensing; ideal for KSA deployment  \n",
       "4  Clean historical datasets; sensible pricing fo...  "
      ]
     },
     "execution_count": 7,
     "metadata": {},
     "output_type": "execute_result"
    }
   ],
   "source": [
    "\n",
    "import pandas as pd, numpy as np, json, os\n",
    "with open(\"/workspace/data/project_config.json\") as f:\n",
    "    CFG = json.load(f)\n",
    "RAW = \"/workspace/data/ML_Trading_DataLayer_v1.xlsx\"\n",
    "df = pd.read_excel(RAW)\n",
    "print(df.shape)\n",
    "df.head()"
   ]
  },
  {
   "cell_type": "code",
   "execution_count": 8,
   "id": "62085252",
   "metadata": {},
   "outputs": [
    {
     "name": "stdout",
     "output_type": "stream",
     "text": [
      "Columns: ['Provider', 'Markets', 'Data Types', 'Realtime', 'Timeframes', 'Delivery', 'Corporate Actions', 'Notes']\n"
     ]
    },
    {
     "data": {
      "text/plain": [
       "Provider             object\n",
       "Markets              object\n",
       "Data Types           object\n",
       "Realtime             object\n",
       "Timeframes           object\n",
       "Delivery             object\n",
       "Corporate Actions    object\n",
       "Notes                object\n",
       "dtype: object"
      ]
     },
     "metadata": {},
     "output_type": "display_data"
    },
    {
     "data": {
      "text/html": [
       "<div>\n",
       "<style scoped>\n",
       "    .dataframe tbody tr th:only-of-type {\n",
       "        vertical-align: middle;\n",
       "    }\n",
       "\n",
       "    .dataframe tbody tr th {\n",
       "        vertical-align: top;\n",
       "    }\n",
       "\n",
       "    .dataframe thead th {\n",
       "        text-align: right;\n",
       "    }\n",
       "</style>\n",
       "<table border=\"1\" class=\"dataframe\">\n",
       "  <thead>\n",
       "    <tr style=\"text-align: right;\">\n",
       "      <th></th>\n",
       "      <th>count</th>\n",
       "      <th>unique</th>\n",
       "      <th>top</th>\n",
       "      <th>freq</th>\n",
       "    </tr>\n",
       "  </thead>\n",
       "  <tbody>\n",
       "    <tr>\n",
       "      <th>Provider</th>\n",
       "      <td>6</td>\n",
       "      <td>6</td>\n",
       "      <td>Yahoo Finance</td>\n",
       "      <td>1</td>\n",
       "    </tr>\n",
       "    <tr>\n",
       "      <th>Markets</th>\n",
       "      <td>6</td>\n",
       "      <td>6</td>\n",
       "      <td>US/Global (broad)</td>\n",
       "      <td>1</td>\n",
       "    </tr>\n",
       "    <tr>\n",
       "      <th>Data Types</th>\n",
       "      <td>6</td>\n",
       "      <td>6</td>\n",
       "      <td>EOD, Historical</td>\n",
       "      <td>1</td>\n",
       "    </tr>\n",
       "    <tr>\n",
       "      <th>Realtime</th>\n",
       "      <td>6</td>\n",
       "      <td>6</td>\n",
       "      <td>No (primarily delayed)</td>\n",
       "      <td>1</td>\n",
       "    </tr>\n",
       "    <tr>\n",
       "      <th>Timeframes</th>\n",
       "      <td>6</td>\n",
       "      <td>5</td>\n",
       "      <td>Tick to 1D+</td>\n",
       "      <td>2</td>\n",
       "    </tr>\n",
       "    <tr>\n",
       "      <th>Delivery</th>\n",
       "      <td>6</td>\n",
       "      <td>6</td>\n",
       "      <td>REST/Download/CSV</td>\n",
       "      <td>1</td>\n",
       "    </tr>\n",
       "    <tr>\n",
       "      <th>Corporate Actions</th>\n",
       "      <td>6</td>\n",
       "      <td>6</td>\n",
       "      <td>Splits/Dividends (adjusted)</td>\n",
       "      <td>1</td>\n",
       "    </tr>\n",
       "    <tr>\n",
       "      <th>Notes</th>\n",
       "      <td>6</td>\n",
       "      <td>6</td>\n",
       "      <td>Good for prototyping/backtesting; licensing re...</td>\n",
       "      <td>1</td>\n",
       "    </tr>\n",
       "  </tbody>\n",
       "</table>\n",
       "</div>"
      ],
      "text/plain": [
       "                  count unique  \\\n",
       "Provider              6      6   \n",
       "Markets               6      6   \n",
       "Data Types            6      6   \n",
       "Realtime              6      6   \n",
       "Timeframes            6      5   \n",
       "Delivery              6      6   \n",
       "Corporate Actions     6      6   \n",
       "Notes                 6      6   \n",
       "\n",
       "                                                                 top freq  \n",
       "Provider                                               Yahoo Finance    1  \n",
       "Markets                                            US/Global (broad)    1  \n",
       "Data Types                                           EOD, Historical    1  \n",
       "Realtime                                      No (primarily delayed)    1  \n",
       "Timeframes                                               Tick to 1D+    2  \n",
       "Delivery                                           REST/Download/CSV    1  \n",
       "Corporate Actions                        Splits/Dividends (adjusted)    1  \n",
       "Notes              Good for prototyping/backtesting; licensing re...    1  "
      ]
     },
     "metadata": {},
     "output_type": "display_data"
    }
   ],
   "source": [
    "\n",
    "print(\"Columns:\", df.columns.tolist())\n",
    "display(df.dtypes)\n",
    "display(df.describe(include='all').T.iloc[:20])\n"
   ]
  },
  {
   "cell_type": "code",
   "execution_count": 9,
   "id": "db4a42f3",
   "metadata": {},
   "outputs": [
    {
     "data": {
      "text/plain": [
       "Series([], dtype: int64)"
      ]
     },
     "metadata": {},
     "output_type": "display_data"
    },
    {
     "name": "stdout",
     "output_type": "stream",
     "text": [
      "Duplicates: 0\n"
     ]
    }
   ],
   "source": [
    "\n",
    "nulls = df.isnull().sum().sort_values(ascending=False)\n",
    "display(nulls[nulls>0])\n",
    "dups = df.duplicated().sum()\n",
    "print(\"Duplicates:\", dups)\n"
   ]
  },
  {
   "cell_type": "code",
   "execution_count": 10,
   "id": "ff6ce911",
   "metadata": {},
   "outputs": [
    {
     "name": "stdout",
     "output_type": "stream",
     "text": [
      "After dedup: (6, 8)\n"
     ]
    },
    {
     "name": "stderr",
     "output_type": "stream",
     "text": [
      "/tmp/ipykernel_1829/785978011.py:4: UserWarning: Could not infer format, so each element will be parsed individually, falling back to `dateutil`. To ensure parsing is consistent and as-expected, please specify a format.\n",
      "  try: df[c] = pd.to_datetime(df[c], errors=\"coerce\")\n",
      "/tmp/ipykernel_1829/785978011.py:4: UserWarning: Could not infer format, so each element will be parsed individually, falling back to `dateutil`. To ensure parsing is consistent and as-expected, please specify a format.\n",
      "  try: df[c] = pd.to_datetime(df[c], errors=\"coerce\")\n"
     ]
    }
   ],
   "source": [
    "\n",
    "# تحويل تواريخ إن وجدت + حذف تكرارات كاملة\n",
    "for c in df.columns:\n",
    "    if \"date\" in c.lower() or \"time\" in c.lower():\n",
    "        try: df[c] = pd.to_datetime(df[c], errors=\"coerce\")\n",
    "        except: pass\n",
    "df_clean = df.drop_duplicates().copy()\n",
    "print(\"After dedup:\", df_clean.shape)\n"
   ]
  },
  {
   "cell_type": "code",
   "execution_count": 11,
   "id": "e7e64585",
   "metadata": {},
   "outputs": [
    {
     "data": {
      "text/plain": [
       "{}"
      ]
     },
     "execution_count": 11,
     "metadata": {},
     "output_type": "execute_result"
    }
   ],
   "source": [
    "\n",
    "num_cols = df_clean.select_dtypes(include=[np.number]).columns\n",
    "iqr_stats = {}\n",
    "for c in num_cols:\n",
    "    Q1, Q3 = df_clean[c].quantile(0.25), df_clean[c].quantile(0.75)\n",
    "    IQR = Q3 - Q1\n",
    "    low, high = Q1 - 1.5*IQR, Q3 + 1.5*IQR\n",
    "    iqr_stats[c] = {\"low\": float(low), \"high\": float(high),\n",
    "                    \"outliers\": int(((df_clean[c]<low)|(df_clean[c]>high)).sum())}\n",
    "iqr_stats\n"
   ]
  },
  {
   "cell_type": "code",
   "execution_count": 12,
   "id": "506d9a67",
   "metadata": {},
   "outputs": [
    {
     "name": "stdout",
     "output_type": "stream",
     "text": [
      "Saved: /workspace/data/processed/ML_Trading_DataLayer_clean.parquet → 6 rows\n"
     ]
    }
   ],
   "source": [
    "\n",
    "with open(\"/workspace/data/project_config.json\") as f:\n",
    "    CFG = json.load(f)\n",
    "out_path = f\"{CFG['paths']['processed']}/ML_Trading_DataLayer_clean.parquet\"\n",
    "df_clean.to_parquet(out_path, index=False)\n",
    "print(\"Saved:\", out_path, \"→\", len(df_clean), \"rows\")\n"
   ]
  },
  {
   "cell_type": "code",
   "execution_count": 13,
   "id": "66fd1723-4ca5-4fce-9d15-ba895cb3dbca",
   "metadata": {},
   "outputs": [
    {
     "name": "stdout",
     "output_type": "stream",
     "text": [
      "Exists: True → /workspace/data/processed/ML_Trading_DataLayer_clean.parquet\n",
      "Shape: (6, 8)\n"
     ]
    },
    {
     "data": {
      "text/html": [
       "<div>\n",
       "<style scoped>\n",
       "    .dataframe tbody tr th:only-of-type {\n",
       "        vertical-align: middle;\n",
       "    }\n",
       "\n",
       "    .dataframe tbody tr th {\n",
       "        vertical-align: top;\n",
       "    }\n",
       "\n",
       "    .dataframe thead th {\n",
       "        text-align: right;\n",
       "    }\n",
       "</style>\n",
       "<table border=\"1\" class=\"dataframe\">\n",
       "  <thead>\n",
       "    <tr style=\"text-align: right;\">\n",
       "      <th></th>\n",
       "      <th>Provider</th>\n",
       "      <th>Markets</th>\n",
       "      <th>Data Types</th>\n",
       "      <th>Realtime</th>\n",
       "      <th>Timeframes</th>\n",
       "      <th>Delivery</th>\n",
       "      <th>Corporate Actions</th>\n",
       "      <th>Notes</th>\n",
       "    </tr>\n",
       "  </thead>\n",
       "  <tbody>\n",
       "    <tr>\n",
       "      <th>0</th>\n",
       "      <td>Yahoo Finance</td>\n",
       "      <td>US/Global (broad)</td>\n",
       "      <td>EOD, Historical</td>\n",
       "      <td>NaT</td>\n",
       "      <td>NaT</td>\n",
       "      <td>REST/Download/CSV</td>\n",
       "      <td>Splits/Dividends (adjusted)</td>\n",
       "      <td>Good for prototyping/backtesting; licensing re...</td>\n",
       "    </tr>\n",
       "    <tr>\n",
       "      <th>1</th>\n",
       "      <td>Polygon.io</td>\n",
       "      <td>US Equities/Options/FX/Crypto</td>\n",
       "      <td>Realtime, Historical, Aggregates, Tick</td>\n",
       "      <td>NaT</td>\n",
       "      <td>NaT</td>\n",
       "      <td>REST/WebSocket</td>\n",
       "      <td>Yes (splits, dividends, symbol changes)</td>\n",
       "      <td>Developer-friendly; good docs; tiered pricing</td>\n",
       "    </tr>\n",
       "    <tr>\n",
       "      <th>2</th>\n",
       "      <td>Refinitiv (LSEG)</td>\n",
       "      <td>Global multi-asset</td>\n",
       "      <td>Low-latency realtime, Historical, Fundamentals</td>\n",
       "      <td>NaT</td>\n",
       "      <td>NaT</td>\n",
       "      <td>APIs/Feeds/SDK</td>\n",
       "      <td>Comprehensive (global)</td>\n",
       "      <td>Institutional-grade; higher cost; licensing pe...</td>\n",
       "    </tr>\n",
       "    <tr>\n",
       "      <th>3</th>\n",
       "      <td>Tadawul (Saudi Exchange)</td>\n",
       "      <td>Saudi equities</td>\n",
       "      <td>Realtime/Delayed, Historical</td>\n",
       "      <td>NaT</td>\n",
       "      <td>NaT</td>\n",
       "      <td>Official feeds / partners</td>\n",
       "      <td>Official disclosures/corporate actions</td>\n",
       "      <td>Must review licensing; ideal for KSA deployment</td>\n",
       "    </tr>\n",
       "    <tr>\n",
       "      <th>4</th>\n",
       "      <td>Tiingo</td>\n",
       "      <td>US Equities/ETF/FX (some global)</td>\n",
       "      <td>EOD, Intraday, Fundamentals</td>\n",
       "      <td>NaT</td>\n",
       "      <td>NaT</td>\n",
       "      <td>REST</td>\n",
       "      <td>Yes (splits/dividends)</td>\n",
       "      <td>Clean historical datasets; sensible pricing fo...</td>\n",
       "    </tr>\n",
       "  </tbody>\n",
       "</table>\n",
       "</div>"
      ],
      "text/plain": [
       "                   Provider                           Markets  \\\n",
       "0             Yahoo Finance                 US/Global (broad)   \n",
       "1                Polygon.io     US Equities/Options/FX/Crypto   \n",
       "2          Refinitiv (LSEG)                Global multi-asset   \n",
       "3  Tadawul (Saudi Exchange)                    Saudi equities   \n",
       "4                    Tiingo  US Equities/ETF/FX (some global)   \n",
       "\n",
       "                                       Data Types Realtime Timeframes  \\\n",
       "0                                 EOD, Historical      NaT        NaT   \n",
       "1          Realtime, Historical, Aggregates, Tick      NaT        NaT   \n",
       "2  Low-latency realtime, Historical, Fundamentals      NaT        NaT   \n",
       "3                    Realtime/Delayed, Historical      NaT        NaT   \n",
       "4                     EOD, Intraday, Fundamentals      NaT        NaT   \n",
       "\n",
       "                    Delivery                        Corporate Actions  \\\n",
       "0          REST/Download/CSV              Splits/Dividends (adjusted)   \n",
       "1             REST/WebSocket  Yes (splits, dividends, symbol changes)   \n",
       "2             APIs/Feeds/SDK                   Comprehensive (global)   \n",
       "3  Official feeds / partners   Official disclosures/corporate actions   \n",
       "4                       REST                   Yes (splits/dividends)   \n",
       "\n",
       "                                               Notes  \n",
       "0  Good for prototyping/backtesting; licensing re...  \n",
       "1      Developer-friendly; good docs; tiered pricing  \n",
       "2  Institutional-grade; higher cost; licensing pe...  \n",
       "3    Must review licensing; ideal for KSA deployment  \n",
       "4  Clean historical datasets; sensible pricing fo...  "
      ]
     },
     "metadata": {},
     "output_type": "display_data"
    }
   ],
   "source": [
    "import os, pandas as pd\n",
    "clean_path = \"/workspace/data/processed/ML_Trading_DataLayer_clean.parquet\"\n",
    "print(\"Exists:\", os.path.exists(clean_path), \"→\", clean_path)\n",
    "if os.path.exists(clean_path):\n",
    "    dfc = pd.read_parquet(clean_path)\n",
    "    print(\"Shape:\", dfc.shape)\n",
    "    display(dfc.head())\n"
   ]
  },
  {
   "cell_type": "code",
   "execution_count": null,
   "id": "0b48c5c8-31af-4094-92b4-66c6fb593c6f",
   "metadata": {},
   "outputs": [],
   "source": []
  },
  {
   "cell_type": "code",
   "execution_count": null,
   "id": "48bd1331-2106-4682-8829-633be8bc2036",
   "metadata": {},
   "outputs": [],
   "source": []
  }
 ],
 "metadata": {
  "kernelspec": {
   "display_name": "Autopilot (/workspace/data/.venv)",
   "language": "python",
   "name": "autopilot-env"
  },
  "language_info": {
   "codemirror_mode": {
    "name": "ipython",
    "version": 3
   },
   "file_extension": ".py",
   "mimetype": "text/x-python",
   "name": "python",
   "nbconvert_exporter": "python",
   "pygments_lexer": "ipython3",
   "version": "3.12.3"
  }
 },
 "nbformat": 4,
 "nbformat_minor": 5
}
