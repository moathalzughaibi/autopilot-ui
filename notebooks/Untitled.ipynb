{
 "cells": [
  {
   "cell_type": "code",
   "execution_count": null,
   "id": "2b4486e9-7b58-49ab-a7e5-65d5cf6156e4",
   "metadata": {},
   "outputs": [],
   "source": []
  }
 ],
 "metadata": {
  "kernelspec": {
   "display_name": "Autopilot (/workspace/data/.venv)",
   "language": "python",
   "name": "autopilot-env"
  },
  "language_info": {
   "codemirror_mode": {
    "name": "ipython",
    "version": 3
   },
   "file_extension": ".py",
   "mimetype": "text/x-python",
   "name": "python",
   "nbconvert_exporter": "python",
   "pygments_lexer": "ipython3",
   "version": "3.12.3"
  }
 },
 "nbformat": 4,
 "nbformat_minor": 5
}
