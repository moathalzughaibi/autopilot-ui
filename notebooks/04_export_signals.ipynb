{
 "cells": [
  {
   "cell_type": "markdown",
   "id": "f7c4861f",
   "metadata": {},
   "source": [
    "# 04_export_signals — 2010.SR"
   ]
  },
  {
   "cell_type": "code",
   "execution_count": 1,
   "id": "607b0dff",
   "metadata": {},
   "outputs": [
    {
     "name": "stdout",
     "output_type": "stream",
     "text": [
      "Saved → /workspace/data/processed/2010.SR_latest_signal.json\n",
      "FLAT 2025-10-26 00:00:00 60.29999923706055\n"
     ]
    }
   ],
   "source": [
    "import os, json, pandas as pd\n",
    "SYMBOL=\"2010.SR\"\n",
    "feat=f\"/workspace/data/processed/{SYMBOL}_features.parquet\"\n",
    "df=pd.read_parquet(feat); last=df.iloc[-1]\n",
    "signal=\"BUY\" if float(last.get(\"pos\",0))>0 else \"FLAT\"\n",
    "out=f\"/workspace/data/processed/{SYMBOL}_latest_signal.json\"\n",
    "with open(out,\"w\") as f:\n",
    "    json.dump({\"symbol\":SYMBOL,\"date\":str(last[\"Date\"]),\n",
    "               \"close\":float(last[\"Close\"]), \"signal\":signal}, f, indent=2)\n",
    "print(\"Saved →\", out); print(signal, last[\"Date\"], float(last[\"Close\"]))\n"
   ]
  },
  {
   "cell_type": "code",
   "execution_count": null,
   "id": "93d323a2-d712-49ed-966e-49b42d8e1778",
   "metadata": {},
   "outputs": [],
   "source": []
  },
  {
   "cell_type": "code",
   "execution_count": null,
   "id": "5c5b031e-3243-4ce1-9458-d056232c9903",
   "metadata": {},
   "outputs": [],
   "source": []
  },
  {
   "cell_type": "code",
   "execution_count": null,
   "id": "668924c2-acdd-4cd1-b231-2d76cfd6eb45",
   "metadata": {},
   "outputs": [],
   "source": []
  }
 ],
 "metadata": {
  "kernelspec": {
   "display_name": "Autopilot (/workspace/data/.venv)",
   "language": "python",
   "name": "autopilot-env"
  },
  "language_info": {
   "codemirror_mode": {
    "name": "ipython",
    "version": 3
   },
   "file_extension": ".py",
   "mimetype": "text/x-python",
   "name": "python",
   "nbconvert_exporter": "python",
   "pygments_lexer": "ipython3",
   "version": "3.12.3"
  }
 },
 "nbformat": 4,
 "nbformat_minor": 5
}
